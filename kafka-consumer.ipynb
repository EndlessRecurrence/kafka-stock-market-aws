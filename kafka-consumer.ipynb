{
 "cells": [
  {
   "cell_type": "code",
   "execution_count": 5,
   "id": "c48b9cf0",
   "metadata": {},
   "outputs": [],
   "source": [
    "import pandas as pd\n",
    "from kafka import KafkaConsumer, KafkaProducer\n",
    "from time import sleep\n",
    "import json"
   ]
  },
  {
   "cell_type": "code",
   "execution_count": 6,
   "id": "c2b499ba",
   "metadata": {},
   "outputs": [
    {
     "name": "stdout",
     "output_type": "stream",
     "text": [
      "Requirement already satisfied: s3fs in /home/calandrinon/anaconda3/lib/python3.9/site-packages (2023.6.0)\n",
      "Requirement already satisfied: aiohttp!=4.0.0a0,!=4.0.0a1 in /home/calandrinon/anaconda3/lib/python3.9/site-packages (from s3fs) (3.8.4)\n",
      "Requirement already satisfied: aiobotocore~=2.5.0 in /home/calandrinon/anaconda3/lib/python3.9/site-packages (from s3fs) (2.5.2)\n",
      "Requirement already satisfied: fsspec==2023.6.0 in /home/calandrinon/anaconda3/lib/python3.9/site-packages (from s3fs) (2023.6.0)\n",
      "Requirement already satisfied: botocore<1.29.162,>=1.29.161 in /home/calandrinon/anaconda3/lib/python3.9/site-packages (from aiobotocore~=2.5.0->s3fs) (1.29.161)\n",
      "Requirement already satisfied: wrapt<2.0.0,>=1.10.10 in /home/calandrinon/anaconda3/lib/python3.9/site-packages (from aiobotocore~=2.5.0->s3fs) (1.14.1)\n",
      "Requirement already satisfied: aioitertools<1.0.0,>=0.5.1 in /home/calandrinon/anaconda3/lib/python3.9/site-packages (from aiobotocore~=2.5.0->s3fs) (0.11.0)\n",
      "Requirement already satisfied: charset-normalizer<4.0,>=2.0 in /home/calandrinon/anaconda3/lib/python3.9/site-packages (from aiohttp!=4.0.0a0,!=4.0.0a1->s3fs) (2.0.4)\n",
      "Requirement already satisfied: async-timeout<5.0,>=4.0.0a3 in /home/calandrinon/anaconda3/lib/python3.9/site-packages (from aiohttp!=4.0.0a0,!=4.0.0a1->s3fs) (4.0.2)\n",
      "Requirement already satisfied: attrs>=17.3.0 in /home/calandrinon/anaconda3/lib/python3.9/site-packages (from aiohttp!=4.0.0a0,!=4.0.0a1->s3fs) (21.4.0)\n",
      "Requirement already satisfied: multidict<7.0,>=4.5 in /home/calandrinon/anaconda3/lib/python3.9/site-packages (from aiohttp!=4.0.0a0,!=4.0.0a1->s3fs) (6.0.4)\n",
      "Requirement already satisfied: yarl<2.0,>=1.0 in /home/calandrinon/anaconda3/lib/python3.9/site-packages (from aiohttp!=4.0.0a0,!=4.0.0a1->s3fs) (1.8.2)\n",
      "Requirement already satisfied: frozenlist>=1.1.1 in /home/calandrinon/anaconda3/lib/python3.9/site-packages (from aiohttp!=4.0.0a0,!=4.0.0a1->s3fs) (1.3.3)\n",
      "Requirement already satisfied: aiosignal>=1.1.2 in /home/calandrinon/anaconda3/lib/python3.9/site-packages (from aiohttp!=4.0.0a0,!=4.0.0a1->s3fs) (1.3.1)\n",
      "Requirement already satisfied: typing_extensions>=4.0 in /home/calandrinon/anaconda3/lib/python3.9/site-packages (from aioitertools<1.0.0,>=0.5.1->aiobotocore~=2.5.0->s3fs) (4.3.0)\n",
      "Requirement already satisfied: urllib3<1.27,>=1.25.4 in /home/calandrinon/anaconda3/lib/python3.9/site-packages (from botocore<1.29.162,>=1.29.161->aiobotocore~=2.5.0->s3fs) (1.26.11)\n",
      "Requirement already satisfied: python-dateutil<3.0.0,>=2.1 in /home/calandrinon/anaconda3/lib/python3.9/site-packages (from botocore<1.29.162,>=1.29.161->aiobotocore~=2.5.0->s3fs) (2.8.2)\n",
      "Requirement already satisfied: jmespath<2.0.0,>=0.7.1 in /home/calandrinon/anaconda3/lib/python3.9/site-packages (from botocore<1.29.162,>=1.29.161->aiobotocore~=2.5.0->s3fs) (0.10.0)\n",
      "Requirement already satisfied: idna>=2.0 in /home/calandrinon/anaconda3/lib/python3.9/site-packages (from yarl<2.0,>=1.0->aiohttp!=4.0.0a0,!=4.0.0a1->s3fs) (3.4)\n",
      "Requirement already satisfied: six>=1.5 in /home/calandrinon/anaconda3/lib/python3.9/site-packages (from python-dateutil<3.0.0,>=2.1->botocore<1.29.162,>=1.29.161->aiobotocore~=2.5.0->s3fs) (1.16.0)\n"
     ]
    }
   ],
   "source": [
    "!pip install s3fs"
   ]
  },
  {
   "cell_type": "code",
   "execution_count": 7,
   "id": "7ba2e1a3",
   "metadata": {},
   "outputs": [],
   "source": [
    "from s3fs import S3FileSystem"
   ]
  },
  {
   "cell_type": "code",
   "execution_count": 9,
   "id": "2c0cd4a4",
   "metadata": {},
   "outputs": [],
   "source": [
    "consumer = KafkaConsumer(\"mytopic\", \n",
    "                         bootstrap_servers=[\"18.196.87.139:9092\"],\n",
    "                         value_deserializer=lambda x: json.loads(x.decode(\"utf-8\")))"
   ]
  },
  {
   "cell_type": "code",
   "execution_count": 10,
   "id": "5e697936",
   "metadata": {},
   "outputs": [],
   "source": [
    "s3 = S3FileSystem()"
   ]
  },
  {
   "cell_type": "code",
   "execution_count": null,
   "id": "53c960c3",
   "metadata": {},
   "outputs": [],
   "source": [
    "for count, i in enumerate(consumer):\n",
    "    file = s3.open(\"s3://kafka-stock-market-proof-of-concept-gica/stock_market_{}.json\".format(count), \"w\")\n",
    "    json.dump(i.value, file)"
   ]
  },
  {
   "cell_type": "code",
   "execution_count": null,
   "id": "4b1c193f",
   "metadata": {},
   "outputs": [],
   "source": []
  }
 ],
 "metadata": {
  "kernelspec": {
   "display_name": "Python 3 (ipykernel)",
   "language": "python",
   "name": "python3"
  },
  "language_info": {
   "codemirror_mode": {
    "name": "ipython",
    "version": 3
   },
   "file_extension": ".py",
   "mimetype": "text/x-python",
   "name": "python",
   "nbconvert_exporter": "python",
   "pygments_lexer": "ipython3",
   "version": "3.9.13"
  }
 },
 "nbformat": 4,
 "nbformat_minor": 5
}
