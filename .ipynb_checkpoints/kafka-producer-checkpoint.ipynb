{
 "cells": [
  {
   "cell_type": "code",
   "execution_count": 4,
   "id": "1547bb86",
   "metadata": {},
   "outputs": [
    {
     "name": "stdout",
     "output_type": "stream",
     "text": [
      "Requirement already satisfied: kafka-python in /home/calandrinon/anaconda3/lib/python3.9/site-packages (2.0.2)\n",
      "Note: you may need to restart the kernel to use updated packages.\n"
     ]
    }
   ],
   "source": [
    "pip install kafka-python"
   ]
  },
  {
   "cell_type": "code",
   "execution_count": 15,
   "id": "a1e6a31e",
   "metadata": {},
   "outputs": [],
   "source": [
    "import pandas as pd\n",
    "from kafka import KafkaConsumer, KafkaProducer\n",
    "import time\n",
    "from functools import reduce\n",
    "import json\n",
    "import requests\n",
    "import csv"
   ]
  },
  {
   "cell_type": "code",
   "execution_count": 8,
   "id": "aa7fc6a4",
   "metadata": {},
   "outputs": [],
   "source": [
    "producer = KafkaProducer(bootstrap_servers=[\"18.196.87.139:9092\"],\n",
    "                         value_serializer=lambda x: json.dumps(x).encode(\"utf-8\"))"
   ]
  },
  {
   "cell_type": "code",
   "execution_count": 9,
   "id": "6545ef11",
   "metadata": {},
   "outputs": [
    {
     "data": {
      "text/plain": [
       "<kafka.producer.future.FutureRecordMetadata at 0x7f6f87fd48e0>"
      ]
     },
     "execution_count": 9,
     "metadata": {},
     "output_type": "execute_result"
    }
   ],
   "source": [
    "producer.send(\"mytopic\", value=\"{'some_key': 1234}\")"
   ]
  },
  {
   "cell_type": "code",
   "execution_count": 10,
   "id": "fcf826a6",
   "metadata": {},
   "outputs": [],
   "source": [
    "def save_data_to_csv(data):\n",
    "    metadata_key, time_series_key = data.keys()\n",
    "    csv_file_handler = open(\"./\" + data[metadata_key][\"2. Symbol\"] + \".csv\", \"w\")\n",
    "    writer = csv.writer(csv_file_handler)\n",
    "    time_series_data = data[time_series_key]\n",
    "    \n",
    "    # Write the CSV header\n",
    "    writer.writerow([\"Timestamp\", \"Open\", \"High\", \"Low\", \"Close\", \"Volume\"])\n",
    "    \n",
    "    # Write values\n",
    "    for key in time_series_data.keys():\n",
    "        prices = time_series_data[key]\n",
    "        price_attribute_keys = prices.keys()\n",
    "        price_attributes_as_list = list(map(lambda key: prices[key], prices))\n",
    "        writer.writerow([key] + price_attributes_as_list)\n",
    "\n",
    "def extract_company_1_minute_intraday_stock_prices(company_tick):\n",
    "    api_key = open(\"./api.key\", \"r\").read()\n",
    "    url = 'https://www.alphavantage.co/query?function=TIME_SERIES_INTRADAY&symbol=' + company_tick + '&interval=1min&apikey=' + api_key\n",
    "    data = requests.get(url).json()\n",
    "    return data"
   ]
  },
  {
   "cell_type": "code",
   "execution_count": 11,
   "id": "36bcf271",
   "metadata": {},
   "outputs": [],
   "source": [
    "data = extract_company_1_minute_intraday_stock_prices(\"GOOG\")\n",
    "save_data_to_csv(data)"
   ]
  },
  {
   "cell_type": "code",
   "execution_count": 12,
   "id": "bd31ee99",
   "metadata": {},
   "outputs": [
    {
     "data": {
      "text/html": [
       "<div>\n",
       "<style scoped>\n",
       "    .dataframe tbody tr th:only-of-type {\n",
       "        vertical-align: middle;\n",
       "    }\n",
       "\n",
       "    .dataframe tbody tr th {\n",
       "        vertical-align: top;\n",
       "    }\n",
       "\n",
       "    .dataframe thead th {\n",
       "        text-align: right;\n",
       "    }\n",
       "</style>\n",
       "<table border=\"1\" class=\"dataframe\">\n",
       "  <thead>\n",
       "    <tr style=\"text-align: right;\">\n",
       "      <th></th>\n",
       "      <th>Timestamp</th>\n",
       "      <th>Open</th>\n",
       "      <th>High</th>\n",
       "      <th>Low</th>\n",
       "      <th>Close</th>\n",
       "      <th>Volume</th>\n",
       "    </tr>\n",
       "  </thead>\n",
       "  <tbody>\n",
       "    <tr>\n",
       "      <th>0</th>\n",
       "      <td>2023-07-28 19:59:00</td>\n",
       "      <td>133.40</td>\n",
       "      <td>133.40</td>\n",
       "      <td>133.29</td>\n",
       "      <td>133.34</td>\n",
       "      <td>52</td>\n",
       "    </tr>\n",
       "    <tr>\n",
       "      <th>1</th>\n",
       "      <td>2023-07-28 19:58:00</td>\n",
       "      <td>133.30</td>\n",
       "      <td>133.34</td>\n",
       "      <td>133.26</td>\n",
       "      <td>133.34</td>\n",
       "      <td>664</td>\n",
       "    </tr>\n",
       "    <tr>\n",
       "      <th>2</th>\n",
       "      <td>2023-07-28 19:56:00</td>\n",
       "      <td>133.20</td>\n",
       "      <td>133.30</td>\n",
       "      <td>133.20</td>\n",
       "      <td>133.30</td>\n",
       "      <td>749</td>\n",
       "    </tr>\n",
       "    <tr>\n",
       "      <th>3</th>\n",
       "      <td>2023-07-28 19:55:00</td>\n",
       "      <td>133.21</td>\n",
       "      <td>133.22</td>\n",
       "      <td>133.21</td>\n",
       "      <td>133.22</td>\n",
       "      <td>4</td>\n",
       "    </tr>\n",
       "    <tr>\n",
       "      <th>4</th>\n",
       "      <td>2023-07-28 19:54:00</td>\n",
       "      <td>133.22</td>\n",
       "      <td>133.25</td>\n",
       "      <td>133.21</td>\n",
       "      <td>133.22</td>\n",
       "      <td>354</td>\n",
       "    </tr>\n",
       "  </tbody>\n",
       "</table>\n",
       "</div>"
      ],
      "text/plain": [
       "             Timestamp    Open    High     Low   Close  Volume\n",
       "0  2023-07-28 19:59:00  133.40  133.40  133.29  133.34      52\n",
       "1  2023-07-28 19:58:00  133.30  133.34  133.26  133.34     664\n",
       "2  2023-07-28 19:56:00  133.20  133.30  133.20  133.30     749\n",
       "3  2023-07-28 19:55:00  133.21  133.22  133.21  133.22       4\n",
       "4  2023-07-28 19:54:00  133.22  133.25  133.21  133.22     354"
      ]
     },
     "execution_count": 12,
     "metadata": {},
     "output_type": "execute_result"
    }
   ],
   "source": [
    "df = pd.read_csv(\"GOOG.csv\")\n",
    "df.head()"
   ]
  },
  {
   "cell_type": "code",
   "execution_count": 16,
   "id": "09cdf43c",
   "metadata": {},
   "outputs": [],
   "source": [
    "start_time = time.time()\n",
    "while time.time() - start_time < 5:\n",
    "    prices = df.sample(1).to_dict(orient=\"records\")\n",
    "    producer.send(\"mytopic\", value=prices)"
   ]
  },
  {
   "cell_type": "code",
   "execution_count": 17,
   "id": "2cfacacc",
   "metadata": {},
   "outputs": [],
   "source": [
    "producer.flush()"
   ]
  },
  {
   "cell_type": "code",
   "execution_count": null,
   "id": "0617d381",
   "metadata": {},
   "outputs": [],
   "source": []
  }
 ],
 "metadata": {
  "kernelspec": {
   "display_name": "Python 3 (ipykernel)",
   "language": "python",
   "name": "python3"
  },
  "language_info": {
   "codemirror_mode": {
    "name": "ipython",
    "version": 3
   },
   "file_extension": ".py",
   "mimetype": "text/x-python",
   "name": "python",
   "nbconvert_exporter": "python",
   "pygments_lexer": "ipython3",
   "version": "3.9.13"
  }
 },
 "nbformat": 4,
 "nbformat_minor": 5
}
