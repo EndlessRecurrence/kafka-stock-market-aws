{
 "cells": [
  {
   "cell_type": "code",
   "execution_count": 1,
   "id": "0fce792d",
   "metadata": {},
   "outputs": [
    {
     "name": "stdout",
     "output_type": "stream",
     "text": [
      "Collecting kafka-python\n",
      "  Downloading kafka_python-2.0.2-py2.py3-none-any.whl (246 kB)\n",
      "\u001b[2K     \u001b[38;2;114;156;31m━━━━━━━━━━━━━━━━━━━━━━━━━━━━━━━━━━━━━━━\u001b[0m \u001b[32m246.5/246.5 kB\u001b[0m \u001b[31m3.3 MB/s\u001b[0m eta \u001b[36m0:00:00\u001b[0m MB/s\u001b[0m eta \u001b[36m0:00:01\u001b[0m:01\u001b[0m\n",
      "\u001b[?25hInstalling collected packages: kafka-python\n",
      "Successfully installed kafka-python-2.0.2\n",
      "Note: you may need to restart the kernel to use updated packages.\n"
     ]
    }
   ],
   "source": [
    "pip install kafka-python"
   ]
  },
  {
   "cell_type": "code",
   "execution_count": 39,
   "id": "9b5b0049",
   "metadata": {},
   "outputs": [],
   "source": [
    "import pandas as pd\n",
    "from kafka import KafkaConsumer, KafkaProducer\n",
    "from time import sleep\n",
    "from functools import reduce\n",
    "import json\n",
    "import requests\n",
    "import csv"
   ]
  },
  {
   "cell_type": "code",
   "execution_count": 6,
   "id": "f820573d",
   "metadata": {},
   "outputs": [],
   "source": [
    "producer = KafkaProducer(bootstrap_servers=[\"44.201.154.217:9092\"],\n",
    "                         value_serializer=lambda x: json.dumps(x).encode(\"utf-8\"))"
   ]
  },
  {
   "cell_type": "code",
   "execution_count": 8,
   "id": "cf58143a",
   "metadata": {},
   "outputs": [
    {
     "data": {
      "text/plain": [
       "<kafka.producer.future.FutureRecordMetadata at 0x7fe29dbdae80>"
      ]
     },
     "execution_count": 8,
     "metadata": {},
     "output_type": "execute_result"
    }
   ],
   "source": [
    "producer.send(\"mytopic\", value=\"{'some_key': 1234}\")"
   ]
  },
  {
   "cell_type": "code",
   "execution_count": 60,
   "id": "7c626302",
   "metadata": {},
   "outputs": [],
   "source": [
    "def save_data_to_csv(data):\n",
    "    metadata_key, time_series_key = data.keys()\n",
    "    csv_file_handler = open(\"./\" + data[metadata_key][\"2. Symbol\"] + \".csv\", \"w\")\n",
    "    writer = csv.writer(csv_file_handler)\n",
    "    time_series_data = data[time_series_key]\n",
    "    \n",
    "    # Write the CSV header\n",
    "    writer.writerow([\"Timestamp\", \"Open\", \"High\", \"Low\", \"Close\", \"Volume\"])\n",
    "    \n",
    "    # Write values\n",
    "    for key in time_series_data.keys():\n",
    "        prices = time_series_data[key]\n",
    "        price_attribute_keys = prices.keys()\n",
    "        price_attributes_as_list = list(map(lambda key: prices[key], prices))\n",
    "        writer.writerow([key] + price_attributes_as_list)\n",
    "\n",
    "def extract_company_1_minute_intraday_stock_prices(company_tick):\n",
    "    api_key = open(\"./api.key\", \"r\").read()\n",
    "    url = 'https://www.alphavantage.co/query?function=TIME_SERIES_INTRADAY&symbol=' + company_tick + '&interval=1min&apikey=' + api_key\n",
    "    data = requests.get(url).json()\n",
    "    return data"
   ]
  },
  {
   "cell_type": "code",
   "execution_count": 61,
   "id": "a6076d31",
   "metadata": {},
   "outputs": [],
   "source": [
    "data = extract_company_1_minute_intraday_stock_prices(\"GOOG\")\n",
    "save_data_to_csv(data)"
   ]
  },
  {
   "cell_type": "code",
   "execution_count": 62,
   "id": "f1140426",
   "metadata": {},
   "outputs": [
    {
     "data": {
      "text/html": [
       "<div>\n",
       "<style scoped>\n",
       "    .dataframe tbody tr th:only-of-type {\n",
       "        vertical-align: middle;\n",
       "    }\n",
       "\n",
       "    .dataframe tbody tr th {\n",
       "        vertical-align: top;\n",
       "    }\n",
       "\n",
       "    .dataframe thead th {\n",
       "        text-align: right;\n",
       "    }\n",
       "</style>\n",
       "<table border=\"1\" class=\"dataframe\">\n",
       "  <thead>\n",
       "    <tr style=\"text-align: right;\">\n",
       "      <th></th>\n",
       "      <th>Timestamp</th>\n",
       "      <th>Open</th>\n",
       "      <th>High</th>\n",
       "      <th>Low</th>\n",
       "      <th>Close</th>\n",
       "      <th>Volume</th>\n",
       "    </tr>\n",
       "  </thead>\n",
       "  <tbody>\n",
       "    <tr>\n",
       "      <th>0</th>\n",
       "      <td>2023-07-28 19:59:00</td>\n",
       "      <td>133.40</td>\n",
       "      <td>133.40</td>\n",
       "      <td>133.29</td>\n",
       "      <td>133.34</td>\n",
       "      <td>52</td>\n",
       "    </tr>\n",
       "    <tr>\n",
       "      <th>1</th>\n",
       "      <td>2023-07-28 19:58:00</td>\n",
       "      <td>133.30</td>\n",
       "      <td>133.34</td>\n",
       "      <td>133.26</td>\n",
       "      <td>133.34</td>\n",
       "      <td>664</td>\n",
       "    </tr>\n",
       "    <tr>\n",
       "      <th>2</th>\n",
       "      <td>2023-07-28 19:56:00</td>\n",
       "      <td>133.20</td>\n",
       "      <td>133.30</td>\n",
       "      <td>133.20</td>\n",
       "      <td>133.30</td>\n",
       "      <td>749</td>\n",
       "    </tr>\n",
       "    <tr>\n",
       "      <th>3</th>\n",
       "      <td>2023-07-28 19:55:00</td>\n",
       "      <td>133.21</td>\n",
       "      <td>133.22</td>\n",
       "      <td>133.21</td>\n",
       "      <td>133.22</td>\n",
       "      <td>4</td>\n",
       "    </tr>\n",
       "    <tr>\n",
       "      <th>4</th>\n",
       "      <td>2023-07-28 19:54:00</td>\n",
       "      <td>133.22</td>\n",
       "      <td>133.25</td>\n",
       "      <td>133.21</td>\n",
       "      <td>133.22</td>\n",
       "      <td>354</td>\n",
       "    </tr>\n",
       "  </tbody>\n",
       "</table>\n",
       "</div>"
      ],
      "text/plain": [
       "             Timestamp    Open    High     Low   Close  Volume\n",
       "0  2023-07-28 19:59:00  133.40  133.40  133.29  133.34      52\n",
       "1  2023-07-28 19:58:00  133.30  133.34  133.26  133.34     664\n",
       "2  2023-07-28 19:56:00  133.20  133.30  133.20  133.30     749\n",
       "3  2023-07-28 19:55:00  133.21  133.22  133.21  133.22       4\n",
       "4  2023-07-28 19:54:00  133.22  133.25  133.21  133.22     354"
      ]
     },
     "execution_count": 62,
     "metadata": {},
     "output_type": "execute_result"
    }
   ],
   "source": [
    "df = pd.read_csv(\"GOOG.csv\")\n",
    "df.head()"
   ]
  },
  {
   "cell_type": "code",
   "execution_count": 63,
   "id": "177ca146",
   "metadata": {},
   "outputs": [
    {
     "data": {
      "text/plain": [
       "[{'Timestamp': '2023-07-28 19:50:00',\n",
       "  'Open': 133.225,\n",
       "  'High': 133.23,\n",
       "  'Low': 133.225,\n",
       "  'Close': 133.23,\n",
       "  'Volume': 35}]"
      ]
     },
     "execution_count": 63,
     "metadata": {},
     "output_type": "execute_result"
    }
   ],
   "source": [
    "df.sample(1).to_dict(orient=\"records\")"
   ]
  },
  {
   "cell_type": "code",
   "execution_count": null,
   "id": "d53f0869",
   "metadata": {},
   "outputs": [],
   "source": []
  }
 ],
 "metadata": {
  "kernelspec": {
   "display_name": "Python 3 (ipykernel)",
   "language": "python",
   "name": "python3"
  },
  "language_info": {
   "codemirror_mode": {
    "name": "ipython",
    "version": 3
   },
   "file_extension": ".py",
   "mimetype": "text/x-python",
   "name": "python",
   "nbconvert_exporter": "python",
   "pygments_lexer": "ipython3",
   "version": "3.9.13"
  }
 },
 "nbformat": 4,
 "nbformat_minor": 5
}
